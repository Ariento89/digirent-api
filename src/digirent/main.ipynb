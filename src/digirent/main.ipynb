{
 "metadata": {
  "language_info": {
   "codemirror_mode": {
    "name": "ipython",
    "version": 3
   },
   "file_extension": ".py",
   "mimetype": "text/x-python",
   "name": "python",
   "nbconvert_exporter": "python",
   "pygments_lexer": "ipython3",
   "version": "3.8.1-final"
  },
  "orig_nbformat": 2,
  "kernelspec": {
   "name": "Python 3.8.1 64-bit",
   "display_name": "Python 3.8.1 64-bit",
   "metadata": {
    "interpreter": {
     "hash": "e394d2c9b8eb5f0a1c8950497afbe3a5f27c2858305e18d64bed55c486ee0a7f"
    }
   }
  }
 },
 "nbformat": 4,
 "nbformat_minor": 2,
 "cells": [
  {
   "cell_type": "code",
   "execution_count": 2,
   "metadata": {},
   "outputs": [],
   "source": [
    "import signrequest_client\n",
    "from signrequest_client.rest import ApiException\n",
    "from uuid import uuid4, UUID\n",
    "\n",
    "API_KEY = \"82eb6dfbad70739cc94be0a2815cb0bfa0132d3f\"\n",
    "# query.statement.compile(compile_kwargs={\"literal_binds\": True})"
   ]
  },
  {
   "cell_type": "code",
   "execution_count": 3,
   "metadata": {},
   "outputs": [],
   "source": [
    "default_configuration = signrequest_client.Configuration()\n",
    "default_configuration.api_key['Authorization'] = API_KEY\n",
    "default_configuration.api_key_prefix['Authorization'] = 'Token'\n",
    "signrequest_client.Configuration.set_default(default_configuration)"
   ]
  },
  {
   "cell_type": "code",
   "execution_count": 4,
   "metadata": {},
   "outputs": [],
   "source": [
    "documents_api = signrequest_client.DocumentsApi()\n",
    "quick_create_api = signrequest_client.SignrequestQuickCreateApi()\n",
    "events_api = signrequest_client.EventsApi()\n",
    "signrequest_api = signrequest_client.SignrequestsApi()\n",
    "quick_create_api = signrequest_client.SignrequestQuickCreateApi()\n",
    "teams_api = signrequest_client.TeamsApi()\n",
    "members_api = signrequest_client.TeamMembersApi()\n",
    "templates_api = signrequest_client.TemplatesApi()"
   ]
  },
  {
   "cell_type": "code",
   "execution_count": 5,
   "metadata": {},
   "outputs": [
    {
     "output_type": "execute_result",
     "data": {
      "text/plain": [
       "{'name': 'ContractTemplate.docx',\n",
       " 'signers': [{'approve_only': False,\n",
       "              'in_person': False,\n",
       "              'needs_to_sign': True,\n",
       "              'notify_only': False,\n",
       "              'order': 0,\n",
       "              'placeholders': [],\n",
       "              'signer_index': 0},\n",
       "             {'approve_only': False,\n",
       "              'in_person': False,\n",
       "              'needs_to_sign': True,\n",
       "              'notify_only': False,\n",
       "              'order': 0,\n",
       "              'placeholders': [{'checkbox_value': None,\n",
       "                                'date_value': None,\n",
       "                                'external_id': None,\n",
       "                                'page_index': 0,\n",
       "                                'prefill': False,\n",
       "                                'text': '',\n",
       "                                'type': 's',\n",
       "                                'uuid': '04532443-7f56-40cb-9916-54ebfd1a2ca2'}],\n",
       "              'signer_index': 1},\n",
       "             {'approve_only': False,\n",
       "              'in_person': False,\n",
       "              'needs_to_sign': True,\n",
       "              'notify_only': False,\n",
       "              'order': 0,\n",
       "              'placeholders': [{'checkbox_value': None,\n",
       "                                'date_value': None,\n",
       "                                'external_id': None,\n",
       "                                'page_index': 0,\n",
       "                                'prefill': False,\n",
       "                                'text': '',\n",
       "                                'type': 's',\n",
       "                                'uuid': '2d2d4ff1-2ec0-4ae5-86af-cc5db62b2eec'}],\n",
       "              'signer_index': 2}],\n",
       " 'team': {'name': 'Shaibudev',\n",
       "          'subdomain': 'shbdev',\n",
       "          'url': 'https://signrequest.com/api/v1/teams/shbdev/'},\n",
       " 'url': 'https://signrequest.com/api/v1/templates/7b089db1-17d4-40f1-92f5-152472cf11ab/',\n",
       " 'user': {'display_name': 'Shaibu Shaibu (s.shaibu.jnr@gmail.com)',\n",
       "          'email': 's.shaibu.jnr@gmail.com',\n",
       "          'first_name': 'Shaibu',\n",
       "          'last_name': 'Shaibu'},\n",
       " 'uuid': '7b089db1-17d4-40f1-92f5-152472cf11ab',\n",
       " 'who': 'mo'}"
      ]
     },
     "metadata": {},
     "execution_count": 5
    }
   ],
   "source": [
    "# fetch all templates\n",
    "my_templates = templates_api.templates_list()\n",
    "# get a single template\n",
    "template1 = templates_api.templates_read(\"7b089db1-17d4-40f1-92f5-152472cf11ab\")\n",
    "template2 = templates_api.templates_read(\"9b9de3ee-c282-46fd-9470-d8833d030953\")\n",
    "template1"
   ]
  },
  {
   "cell_type": "code",
   "execution_count": 6,
   "metadata": {},
   "outputs": [
    {
     "output_type": "execute_result",
     "data": {
      "text/plain": [
       "UUID('79dfe910-c251-45cc-9299-c62a880ff41f')"
      ]
     },
     "metadata": {},
     "execution_count": 6
    }
   ],
   "source": [
    "# list of documents\n",
    "mydocuments = documents_api.documents_list()\n",
    "mydocuments\n",
    "#new document external uuid\n",
    "my_document_uuid = uuid4()\n",
    "my_document_uuid"
   ]
  },
  {
   "cell_type": "code",
   "execution_count": 7,
   "metadata": {},
   "outputs": [
    {
     "output_type": "error",
     "ename": "NameError",
     "evalue": "name 'api_instance' is not defined",
     "traceback": [
      "\u001b[0;31m---------------------------------------------------------------------------\u001b[0m",
      "\u001b[0;31mNameError\u001b[0m                                 Traceback (most recent call last)",
      "\u001b[0;32m<ipython-input-7-2d00223a9a18>\u001b[0m in \u001b[0;36m<module>\u001b[0;34m\u001b[0m\n\u001b[1;32m     16\u001b[0m )\n\u001b[1;32m     17\u001b[0m \u001b[0;34m\u001b[0m\u001b[0m\n\u001b[0;32m---> 18\u001b[0;31m \u001b[0mapi_response\u001b[0m \u001b[0;34m=\u001b[0m \u001b[0mapi_instance\u001b[0m\u001b[0;34m.\u001b[0m\u001b[0msignrequest_quick_create_create\u001b[0m\u001b[0;34m(\u001b[0m\u001b[0mdata\u001b[0m\u001b[0;34m)\u001b[0m\u001b[0;34m\u001b[0m\u001b[0;34m\u001b[0m\u001b[0m\n\u001b[0m\u001b[1;32m     19\u001b[0m \u001b[0mapi_response\u001b[0m\u001b[0;34m\u001b[0m\u001b[0;34m\u001b[0m\u001b[0m\n",
      "\u001b[0;31mNameError\u001b[0m: name 'api_instance' is not defined"
     ]
    }
   ],
   "source": [
    "file_extension = template2.name.split(\".\")[-1]\n",
    "from_email = \"noreply@digirent.com\"\n",
    "from_email_name = \"Digirent Contractor\"\n",
    "email_subject = \"Sign this document\"\n",
    "email_message = \"This is the email for you to sign this contract for your apartment\"\n",
    "signers = [{\"email\":\"tellshaibu@gmail.com\"}, {\"email\": \"jnrshb35@gmail.com\"}]\n",
    "data = signrequest_client.SignRequestQuickCreate(\n",
    "    signers=signers,\n",
    "    external_id=str(my_document_uuid),\n",
    "    name=f\"{my_document_uuid}-mydocument.{file_extension}\",\n",
    "    template=template2.url,\n",
    "    from_email=from_email,\n",
    "    from_email_name=from_email_name,\n",
    "    subject=email_subject,\n",
    "    message=email_message\n",
    ")\n",
    "\n",
    "api_response = quick_create_api.signrequest_quick_create_create(data)\n",
    "api_response"
   ]
  },
  {
   "cell_type": "code",
   "execution_count": null,
   "metadata": {},
   "outputs": [],
   "source": []
  }
 ]
}